{
 "cells": [
  {
   "cell_type": "code",
   "execution_count": 1,
   "metadata": {},
   "outputs": [
    {
     "name": "stdout",
     "output_type": "stream",
     "text": [
      "Name: John Doe\n",
      "Age: 21\n",
      "Major: Computer Science\n",
      "Math Grade: A\n",
      "\n",
      "Updated Age: 22\n",
      "Updated Science Grade: A\n",
      "\n",
      "Graduation Year: 2023\n",
      "\n",
      "Dictionary after deleting 'major': {'name': 'John Doe', 'age': 22, 'grades': {'math': 'A', 'science': 'A', 'english': 'A-'}, 'graduation_year': 2023}\n",
      "\n",
      "Iterating through dictionary:\n",
      "name: John Doe\n",
      "age: 22\n",
      "grades: {'math': 'A', 'science': 'A', 'english': 'A-'}\n",
      "graduation_year: 2023\n",
      "\n",
      "'Name' is a key in the student dictionary.\n",
      "\n",
      "Graduation Year: 2023\n",
      "\n",
      "Dictionary after clearing all items: {}\n"
     ]
    }
   ],
   "source": [
    "# Creating a dictionary\n",
    "student = {\n",
    "    \"name\": \"John Doe\",\n",
    "    \"age\": 21,\n",
    "    \"major\": \"Computer Science\",\n",
    "    \"grades\": {\n",
    "        \"math\": \"A\",\n",
    "        \"science\": \"B+\",\n",
    "        \"english\": \"A-\"\n",
    "    }\n",
    "}\n",
    "\n",
    "# Accessing dictionary items\n",
    "print(\"Name:\", student[\"name\"])\n",
    "print(\"Age:\", student[\"age\"])\n",
    "print(\"Major:\", student[\"major\"])\n",
    "print(\"Math Grade:\", student[\"grades\"][\"math\"])\n",
    "\n",
    "# Updating dictionary items\n",
    "student[\"age\"] = 22\n",
    "student[\"grades\"][\"science\"] = \"A\"\n",
    "\n",
    "print(\"\\nUpdated Age:\", student[\"age\"])\n",
    "print(\"Updated Science Grade:\", student[\"grades\"][\"science\"])\n",
    "\n",
    "# Adding new items to the dictionary\n",
    "student[\"graduation_year\"] = 2023\n",
    "\n",
    "print(\"\\nGraduation Year:\", student[\"graduation_year\"])\n",
    "\n",
    "# Deleting items from the dictionary\n",
    "del student[\"major\"]\n",
    "\n",
    "print(\"\\nDictionary after deleting 'major':\", student)\n",
    "\n",
    "# Iterating through dictionary\n",
    "print(\"\\nIterating through dictionary:\")\n",
    "for key, value in student.items():\n",
    "    print(f\"{key}: {value}\")\n",
    "\n",
    "# Checking if a key exists\n",
    "if \"name\" in student:\n",
    "    print(\"\\n'Name' is a key in the student dictionary.\")\n",
    "\n",
    "# Getting the value with a default if the key doesn't exist\n",
    "graduation_year = student.get(\"graduation_year\", \"Not specified\")\n",
    "print(\"\\nGraduation Year:\", graduation_year)\n",
    "\n",
    "# Clearing all items in the dictionary\n",
    "student.clear()\n",
    "print(\"\\nDictionary after clearing all items:\", student)\n"
   ]
  }
 ],
 "metadata": {
  "kernelspec": {
   "display_name": "Python 3",
   "language": "python",
   "name": "python3"
  },
  "language_info": {
   "codemirror_mode": {
    "name": "ipython",
    "version": 3
   },
   "file_extension": ".py",
   "mimetype": "text/x-python",
   "name": "python",
   "nbconvert_exporter": "python",
   "pygments_lexer": "ipython3",
   "version": "3.12.2"
  }
 },
 "nbformat": 4,
 "nbformat_minor": 2
}
